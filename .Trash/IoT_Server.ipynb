{
 "cells": [
  {
   "cell_type": "markdown",
   "id": "88ad67b2",
   "metadata": {},
   "source": [
    "#### Flask Server\n",
    "- Python언어 기반 마이크로 웹 프레임워크"
   ]
  },
  {
   "cell_type": "code",
   "execution_count": null,
   "id": "f9f2019b",
   "metadata": {},
   "outputs": [
    {
     "name": "stdout",
     "output_type": "stream",
     "text": [
      " * Serving Flask app \"__main__\" (lazy loading)\n",
      " * Environment: production\n",
      "\u001b[31m   WARNING: This is a development server. Do not use it in a production deployment.\u001b[0m\n",
      "\u001b[2m   Use a production WSGI server instead.\u001b[0m\n",
      " * Debug mode: off\n"
     ]
    },
    {
     "name": "stderr",
     "output_type": "stream",
     "text": [
      " * Running on http://172.20.10.5:5031/ (Press CTRL+C to quit)\n",
      "172.20.10.5 - - [01/Aug/2022 17:30:21] \"GET / HTTP/1.1\" 200 -\n",
      "172.20.10.5 - - [01/Aug/2022 17:30:21] \"GET /favicon.ico HTTP/1.1\" 404 -\n",
      "172.20.10.5 - - [01/Aug/2022 17:30:30] \"GET /led HTTP/1.1\" 200 -\n",
      "172.20.10.5 - - [01/Aug/2022 17:35:49] \"GET /led/on HTTP/1.1\" 200 -\n"
     ]
    },
    {
     "name": "stdout",
     "output_type": "stream",
     "text": [
      "LED 켜짐\n"
     ]
    },
    {
     "name": "stderr",
     "output_type": "stream",
     "text": [
      "172.20.10.5 - - [01/Aug/2022 17:35:52] \"GET /led HTTP/1.1\" 200 -\n",
      "172.20.10.7 - - [01/Aug/2022 17:40:44] \"GET /led HTTP/1.1\" 200 -\n",
      "172.20.10.7 - - [01/Aug/2022 17:40:44] \"GET /led HTTP/1.1\" 200 -\n",
      "172.20.10.7 - - [01/Aug/2022 17:40:45] \"GET /led HTTP/1.1\" 200 -\n",
      "172.20.10.7 - - [01/Aug/2022 17:40:46] \"GET /led HTTP/1.1\" 200 -\n",
      "172.20.10.7 - - [01/Aug/2022 17:40:46] \"GET /led HTTP/1.1\" 200 -\n",
      "172.20.10.7 - - [01/Aug/2022 17:40:47] \"GET /led HTTP/1.1\" 200 -\n",
      "172.20.10.7 - - [01/Aug/2022 17:40:47] \"GET /led HTTP/1.1\" 200 -\n",
      "172.20.10.7 - - [01/Aug/2022 17:40:48] \"GET /led HTTP/1.1\" 200 -\n",
      "172.20.10.7 - - [01/Aug/2022 17:40:49] \"GET /led HTTP/1.1\" 200 -\n",
      "172.20.10.7 - - [01/Aug/2022 17:40:49] \"GET /led HTTP/1.1\" 200 -\n",
      "172.20.10.7 - - [01/Aug/2022 17:40:50] \"GET /led HTTP/1.1\" 200 -\n",
      "172.20.10.7 - - [01/Aug/2022 17:40:50] \"GET /led HTTP/1.1\" 200 -\n",
      "172.20.10.7 - - [01/Aug/2022 17:40:51] \"GET /led HTTP/1.1\" 200 -\n",
      "172.20.10.7 - - [01/Aug/2022 17:40:52] \"GET /led HTTP/1.1\" 200 -\n",
      "172.20.10.7 - - [01/Aug/2022 17:40:52] \"GET /led HTTP/1.1\" 200 -\n",
      "172.20.10.7 - - [01/Aug/2022 17:40:53] \"GET /led HTTP/1.1\" 200 -\n",
      "172.20.10.7 - - [01/Aug/2022 17:40:53] \"GET /led HTTP/1.1\" 200 -\n",
      "172.20.10.7 - - [01/Aug/2022 17:40:54] \"GET /led HTTP/1.1\" 200 -\n",
      "172.20.10.7 - - [01/Aug/2022 17:40:54] \"GET /led HTTP/1.1\" 200 -\n",
      "172.20.10.7 - - [01/Aug/2022 17:40:55] \"GET /led HTTP/1.1\" 200 -\n",
      "172.20.10.7 - - [01/Aug/2022 17:40:56] \"GET /led HTTP/1.1\" 200 -\n",
      "172.20.10.7 - - [01/Aug/2022 17:40:57] \"GET /led HTTP/1.1\" 200 -\n",
      "172.20.10.7 - - [01/Aug/2022 17:40:57] \"GET /led HTTP/1.1\" 200 -\n",
      "172.20.10.7 - - [01/Aug/2022 17:40:58] \"GET /led HTTP/1.1\" 200 -\n",
      "172.20.10.7 - - [01/Aug/2022 17:40:58] \"GET /led HTTP/1.1\" 200 -\n",
      "172.20.10.7 - - [01/Aug/2022 17:40:59] \"GET /led HTTP/1.1\" 200 -\n",
      "172.20.10.7 - - [01/Aug/2022 17:40:59] \"GET /led HTTP/1.1\" 200 -\n",
      "172.20.10.7 - - [01/Aug/2022 17:41:00] \"GET /led HTTP/1.1\" 200 -\n",
      "172.20.10.7 - - [01/Aug/2022 17:41:01] \"GET /led HTTP/1.1\" 200 -\n",
      "172.20.10.7 - - [01/Aug/2022 17:41:01] \"GET /led HTTP/1.1\" 200 -\n",
      "172.20.10.7 - - [01/Aug/2022 17:41:02] \"GET /led HTTP/1.1\" 200 -\n",
      "172.20.10.7 - - [01/Aug/2022 17:41:02] \"GET /led HTTP/1.1\" 200 -\n",
      "172.20.10.7 - - [01/Aug/2022 17:41:03] \"GET /led HTTP/1.1\" 200 -\n",
      "172.20.10.7 - - [01/Aug/2022 17:41:04] \"GET /led HTTP/1.1\" 200 -\n",
      "172.20.10.7 - - [01/Aug/2022 17:41:04] \"GET /led HTTP/1.1\" 200 -\n",
      "172.20.10.7 - - [01/Aug/2022 17:41:05] \"GET /led HTTP/1.1\" 200 -\n",
      "172.20.10.7 - - [01/Aug/2022 17:41:05] \"GET /led HTTP/1.1\" 200 -\n",
      "172.20.10.7 - - [01/Aug/2022 17:41:06] \"GET /led HTTP/1.1\" 200 -\n",
      "172.20.10.7 - - [01/Aug/2022 17:41:06] \"GET /led HTTP/1.1\" 200 -\n",
      "172.20.10.7 - - [01/Aug/2022 17:41:07] \"GET /led HTTP/1.1\" 200 -\n",
      "172.20.10.7 - - [01/Aug/2022 17:41:08] \"GET /led HTTP/1.1\" 200 -\n",
      "172.20.10.7 - - [01/Aug/2022 17:41:08] \"GET /led HTTP/1.1\" 200 -\n",
      "172.20.10.7 - - [01/Aug/2022 17:41:09] \"GET /led HTTP/1.1\" 200 -\n",
      "172.20.10.7 - - [01/Aug/2022 17:41:09] \"GET /led HTTP/1.1\" 200 -\n",
      "172.20.10.7 - - [01/Aug/2022 17:41:10] \"GET /led HTTP/1.1\" 200 -\n",
      "172.20.10.7 - - [01/Aug/2022 17:41:10] \"GET /led HTTP/1.1\" 200 -\n",
      "172.20.10.7 - - [01/Aug/2022 17:41:11] \"GET /led HTTP/1.1\" 200 -\n",
      "172.20.10.7 - - [01/Aug/2022 17:41:12] \"GET /led HTTP/1.1\" 200 -\n",
      "172.20.10.7 - - [01/Aug/2022 17:41:12] \"GET /led HTTP/1.1\" 200 -\n",
      "172.20.10.7 - - [01/Aug/2022 17:41:13] \"GET /led HTTP/1.1\" 200 -\n",
      "172.20.10.7 - - [01/Aug/2022 17:41:13] \"GET /led HTTP/1.1\" 200 -\n",
      "172.20.10.7 - - [01/Aug/2022 17:41:14] \"GET /led HTTP/1.1\" 200 -\n",
      "172.20.10.7 - - [01/Aug/2022 17:41:14] \"GET /led HTTP/1.1\" 200 -\n",
      "172.20.10.7 - - [01/Aug/2022 17:41:15] \"GET /led HTTP/1.1\" 200 -\n",
      "172.20.10.7 - - [01/Aug/2022 17:41:15] \"GET /led HTTP/1.1\" 200 -\n",
      "172.20.10.7 - - [01/Aug/2022 17:41:16] \"GET /led HTTP/1.1\" 200 -\n",
      "172.20.10.7 - - [01/Aug/2022 17:41:17] \"GET /led HTTP/1.1\" 200 -\n",
      "172.20.10.7 - - [01/Aug/2022 17:41:17] \"GET /led HTTP/1.1\" 200 -\n",
      "172.20.10.7 - - [01/Aug/2022 17:41:18] \"GET /led HTTP/1.1\" 200 -\n",
      "172.20.10.7 - - [01/Aug/2022 17:41:18] \"GET /led HTTP/1.1\" 200 -\n",
      "172.20.10.7 - - [01/Aug/2022 17:41:19] \"GET /led HTTP/1.1\" 200 -\n",
      "172.20.10.7 - - [01/Aug/2022 17:41:19] \"GET /led HTTP/1.1\" 200 -\n",
      "172.20.10.7 - - [01/Aug/2022 17:41:20] \"GET /led HTTP/1.1\" 200 -\n",
      "172.20.10.7 - - [01/Aug/2022 17:41:21] \"GET /led HTTP/1.1\" 200 -\n",
      "172.20.10.7 - - [01/Aug/2022 17:41:21] \"GET /led HTTP/1.1\" 200 -\n",
      "172.20.10.7 - - [01/Aug/2022 17:41:22] \"GET /led HTTP/1.1\" 200 -\n",
      "172.20.10.7 - - [01/Aug/2022 17:41:22] \"GET /led HTTP/1.1\" 200 -\n",
      "172.20.10.7 - - [01/Aug/2022 17:41:23] \"GET /led HTTP/1.1\" 200 -\n",
      "172.20.10.7 - - [01/Aug/2022 17:41:23] \"GET /led HTTP/1.1\" 200 -\n",
      "172.20.10.7 - - [01/Aug/2022 17:41:24] \"GET /led HTTP/1.1\" 200 -\n",
      "172.20.10.7 - - [01/Aug/2022 17:41:24] \"GET /led HTTP/1.1\" 200 -\n",
      "172.20.10.7 - - [01/Aug/2022 17:41:25] \"GET /led HTTP/1.1\" 200 -\n",
      "172.20.10.7 - - [01/Aug/2022 17:41:26] \"GET /led HTTP/1.1\" 200 -\n",
      "172.20.10.7 - - [01/Aug/2022 17:41:26] \"GET /led HTTP/1.1\" 200 -\n",
      "172.20.10.7 - - [01/Aug/2022 17:41:27] \"GET /led HTTP/1.1\" 200 -\n",
      "172.20.10.7 - - [01/Aug/2022 17:41:28] \"GET /led HTTP/1.1\" 200 -\n",
      "172.20.10.7 - - [01/Aug/2022 17:41:28] \"GET /led HTTP/1.1\" 200 -\n",
      "172.20.10.7 - - [01/Aug/2022 17:41:29] \"GET /led HTTP/1.1\" 200 -\n",
      "172.20.10.7 - - [01/Aug/2022 17:41:29] \"GET /led HTTP/1.1\" 200 -\n",
      "172.20.10.7 - - [01/Aug/2022 17:41:30] \"GET /led HTTP/1.1\" 200 -\n",
      "172.20.10.7 - - [01/Aug/2022 17:41:31] \"GET /led HTTP/1.1\" 200 -\n",
      "172.20.10.7 - - [01/Aug/2022 17:41:31] \"GET /led HTTP/1.1\" 200 -\n",
      "172.20.10.7 - - [01/Aug/2022 17:41:32] \"GET /led HTTP/1.1\" 200 -\n",
      "172.20.10.7 - - [01/Aug/2022 17:41:32] \"GET /led HTTP/1.1\" 200 -\n",
      "172.20.10.7 - - [01/Aug/2022 17:41:33] \"GET /led HTTP/1.1\" 200 -\n",
      "172.20.10.7 - - [01/Aug/2022 17:41:34] \"GET /led HTTP/1.1\" 200 -\n",
      "172.20.10.7 - - [01/Aug/2022 17:41:34] \"GET /led HTTP/1.1\" 200 -\n",
      "172.20.10.7 - - [01/Aug/2022 17:41:35] \"GET /led HTTP/1.1\" 200 -\n",
      "172.20.10.7 - - [01/Aug/2022 17:41:35] \"GET /led HTTP/1.1\" 200 -\n",
      "172.20.10.7 - - [01/Aug/2022 17:41:36] \"GET /led HTTP/1.1\" 200 -\n",
      "172.20.10.7 - - [01/Aug/2022 17:41:37] \"GET /led HTTP/1.1\" 200 -\n",
      "172.20.10.7 - - [01/Aug/2022 17:41:37] \"GET /led HTTP/1.1\" 200 -\n",
      "172.20.10.7 - - [01/Aug/2022 17:41:38] \"GET /led HTTP/1.1\" 200 -\n",
      "172.20.10.7 - - [01/Aug/2022 17:41:38] \"GET /led HTTP/1.1\" 200 -\n",
      "172.20.10.7 - - [01/Aug/2022 17:41:39] \"GET /led HTTP/1.1\" 200 -\n",
      "172.20.10.7 - - [01/Aug/2022 17:41:39] \"GET /led HTTP/1.1\" 200 -\n",
      "172.20.10.7 - - [01/Aug/2022 17:41:40] \"GET /led HTTP/1.1\" 200 -\n",
      "172.20.10.7 - - [01/Aug/2022 17:41:40] \"GET /led HTTP/1.1\" 200 -\n",
      "172.20.10.7 - - [01/Aug/2022 17:41:41] \"GET /led HTTP/1.1\" 200 -\n",
      "172.20.10.7 - - [01/Aug/2022 17:41:42] \"GET /led HTTP/1.1\" 200 -\n",
      "172.20.10.7 - - [01/Aug/2022 17:41:42] \"GET /led HTTP/1.1\" 200 -\n",
      "172.20.10.7 - - [01/Aug/2022 17:41:43] \"GET /led HTTP/1.1\" 200 -\n",
      "172.20.10.7 - - [01/Aug/2022 17:41:44] \"GET /led HTTP/1.1\" 200 -\n",
      "172.20.10.7 - - [01/Aug/2022 17:41:44] \"GET /led HTTP/1.1\" 200 -\n",
      "172.20.10.7 - - [01/Aug/2022 17:41:45] \"GET /led HTTP/1.1\" 200 -\n",
      "172.20.10.7 - - [01/Aug/2022 17:41:45] \"GET /led HTTP/1.1\" 200 -\n",
      "172.20.10.7 - - [01/Aug/2022 17:41:46] \"GET /led HTTP/1.1\" 200 -\n",
      "172.20.10.7 - - [01/Aug/2022 17:41:46] \"GET /led HTTP/1.1\" 200 -\n",
      "172.20.10.7 - - [01/Aug/2022 17:41:47] \"GET /led HTTP/1.1\" 200 -\n",
      "172.20.10.7 - - [01/Aug/2022 17:41:48] \"GET /led HTTP/1.1\" 200 -\n",
      "172.20.10.7 - - [01/Aug/2022 17:41:48] \"GET /led HTTP/1.1\" 200 -\n",
      "172.20.10.7 - - [01/Aug/2022 17:41:49] \"GET /led HTTP/1.1\" 200 -\n",
      "172.20.10.7 - - [01/Aug/2022 17:41:49] \"GET /led HTTP/1.1\" 200 -\n",
      "172.20.10.7 - - [01/Aug/2022 17:41:50] \"GET /led HTTP/1.1\" 200 -\n",
      "172.20.10.7 - - [01/Aug/2022 17:41:51] \"GET /led HTTP/1.1\" 200 -\n",
      "172.20.10.7 - - [01/Aug/2022 17:41:51] \"GET /led HTTP/1.1\" 200 -\n",
      "172.20.10.7 - - [01/Aug/2022 17:41:52] \"GET /led HTTP/1.1\" 200 -\n",
      "172.20.10.7 - - [01/Aug/2022 17:41:52] \"GET /led HTTP/1.1\" 200 -\n",
      "172.20.10.7 - - [01/Aug/2022 17:41:53] \"GET /led HTTP/1.1\" 200 -\n",
      "172.20.10.7 - - [01/Aug/2022 17:41:54] \"GET /led HTTP/1.1\" 200 -\n",
      "172.20.10.7 - - [01/Aug/2022 17:41:54] \"GET /led HTTP/1.1\" 200 -\n",
      "172.20.10.7 - - [01/Aug/2022 17:42:10] \"GET /led HTTP/1.1\" 200 -\n",
      "172.20.10.7 - - [01/Aug/2022 17:42:11] \"GET /led HTTP/1.1\" 200 -\n",
      "172.20.10.7 - - [01/Aug/2022 17:42:11] \"GET /led HTTP/1.1\" 200 -\n",
      "172.20.10.7 - - [01/Aug/2022 17:42:12] \"GET /led HTTP/1.1\" 200 -\n",
      "172.20.10.7 - - [01/Aug/2022 17:42:12] \"GET /led HTTP/1.1\" 200 -\n"
     ]
    },
    {
     "name": "stderr",
     "output_type": "stream",
     "text": [
      "172.20.10.7 - - [01/Aug/2022 17:42:13] \"GET /led HTTP/1.1\" 200 -\n",
      "172.20.10.7 - - [01/Aug/2022 17:42:13] \"GET /led HTTP/1.1\" 200 -\n",
      "172.20.10.7 - - [01/Aug/2022 17:42:14] \"GET /led HTTP/1.1\" 200 -\n",
      "172.20.10.7 - - [01/Aug/2022 17:42:15] \"GET /led HTTP/1.1\" 200 -\n",
      "172.20.10.7 - - [01/Aug/2022 17:42:15] \"GET /led HTTP/1.1\" 200 -\n",
      "172.20.10.7 - - [01/Aug/2022 17:42:16] \"GET /led HTTP/1.1\" 200 -\n",
      "172.20.10.7 - - [01/Aug/2022 17:42:17] \"GET /led HTTP/1.1\" 200 -\n",
      "172.20.10.7 - - [01/Aug/2022 17:42:18] \"GET /led HTTP/1.1\" 200 -\n",
      "172.20.10.7 - - [01/Aug/2022 17:42:19] \"GET /led HTTP/1.1\" 200 -\n",
      "172.20.10.7 - - [01/Aug/2022 17:42:20] \"GET /led HTTP/1.1\" 200 -\n",
      "172.20.10.7 - - [01/Aug/2022 17:42:20] \"GET /led HTTP/1.1\" 200 -\n",
      "172.20.10.7 - - [01/Aug/2022 17:42:21] \"GET /led HTTP/1.1\" 200 -\n",
      "172.20.10.7 - - [01/Aug/2022 17:42:22] \"GET /led HTTP/1.1\" 200 -\n",
      "172.20.10.7 - - [01/Aug/2022 17:42:23] \"GET /led HTTP/1.1\" 200 -\n",
      "172.20.10.7 - - [01/Aug/2022 17:42:23] \"GET /led HTTP/1.1\" 200 -\n",
      "172.20.10.7 - - [01/Aug/2022 17:42:24] \"GET /led HTTP/1.1\" 200 -\n",
      "172.20.10.7 - - [01/Aug/2022 17:42:25] \"GET /led HTTP/1.1\" 200 -\n",
      "172.20.10.7 - - [01/Aug/2022 17:42:25] \"GET /led HTTP/1.1\" 200 -\n",
      "172.20.10.7 - - [01/Aug/2022 17:42:26] \"GET /led HTTP/1.1\" 200 -\n",
      "172.20.10.7 - - [01/Aug/2022 17:42:27] \"GET /led HTTP/1.1\" 200 -\n",
      "172.20.10.7 - - [01/Aug/2022 17:42:27] \"GET /led HTTP/1.1\" 200 -\n",
      "172.20.10.7 - - [01/Aug/2022 17:42:28] \"GET /led HTTP/1.1\" 200 -\n",
      "172.20.10.7 - - [01/Aug/2022 17:42:29] \"GET /led HTTP/1.1\" 200 -\n",
      "172.20.10.7 - - [01/Aug/2022 17:42:29] \"GET /led HTTP/1.1\" 200 -\n",
      "172.20.10.7 - - [01/Aug/2022 17:42:30] \"GET /led HTTP/1.1\" 200 -\n",
      "172.20.10.7 - - [01/Aug/2022 17:42:31] \"GET /led HTTP/1.1\" 200 -\n",
      "172.20.10.7 - - [01/Aug/2022 17:42:32] \"GET /led HTTP/1.1\" 200 -\n",
      "172.20.10.7 - - [01/Aug/2022 17:42:32] \"GET /led HTTP/1.1\" 200 -\n",
      "172.20.10.7 - - [01/Aug/2022 17:42:33] \"GET /led HTTP/1.1\" 200 -\n",
      "172.20.10.7 - - [01/Aug/2022 17:42:33] \"GET /led HTTP/1.1\" 200 -\n",
      "172.20.10.7 - - [01/Aug/2022 17:42:34] \"GET /led HTTP/1.1\" 200 -\n",
      "172.20.10.7 - - [01/Aug/2022 17:42:35] \"GET /led HTTP/1.1\" 200 -\n",
      "172.20.10.7 - - [01/Aug/2022 17:42:35] \"GET /led HTTP/1.1\" 200 -\n",
      "172.20.10.7 - - [01/Aug/2022 17:42:36] \"GET /led HTTP/1.1\" 200 -\n",
      "172.20.10.7 - - [01/Aug/2022 17:42:36] \"GET /led HTTP/1.1\" 200 -\n",
      "172.20.10.7 - - [01/Aug/2022 17:42:37] \"GET /led HTTP/1.1\" 200 -\n",
      "172.20.10.7 - - [01/Aug/2022 17:42:38] \"GET /led HTTP/1.1\" 200 -\n",
      "172.20.10.7 - - [01/Aug/2022 17:42:39] \"GET /led HTTP/1.1\" 200 -\n",
      "172.20.10.7 - - [01/Aug/2022 17:42:40] \"GET /led HTTP/1.1\" 200 -\n",
      "172.20.10.7 - - [01/Aug/2022 17:42:41] \"GET /led HTTP/1.1\" 200 -\n",
      "172.20.10.7 - - [01/Aug/2022 17:42:41] \"GET /led HTTP/1.1\" 200 -\n",
      "172.20.10.7 - - [01/Aug/2022 17:42:42] \"GET /led HTTP/1.1\" 200 -\n",
      "172.20.10.7 - - [01/Aug/2022 17:42:43] \"GET /led HTTP/1.1\" 200 -\n",
      "172.20.10.7 - - [01/Aug/2022 17:42:43] \"GET /led HTTP/1.1\" 200 -\n",
      "172.20.10.7 - - [01/Aug/2022 17:42:44] \"GET /led HTTP/1.1\" 200 -\n",
      "172.20.10.7 - - [01/Aug/2022 17:42:45] \"GET /led HTTP/1.1\" 200 -\n",
      "172.20.10.7 - - [01/Aug/2022 17:42:46] \"GET /led HTTP/1.1\" 200 -\n",
      "172.20.10.7 - - [01/Aug/2022 17:42:46] \"GET /led HTTP/1.1\" 200 -\n",
      "172.20.10.7 - - [01/Aug/2022 17:42:47] \"GET /led HTTP/1.1\" 200 -\n",
      "172.20.10.7 - - [01/Aug/2022 17:42:48] \"GET /led HTTP/1.1\" 200 -\n",
      "172.20.10.7 - - [01/Aug/2022 17:42:49] \"GET /led HTTP/1.1\" 200 -\n",
      "172.20.10.7 - - [01/Aug/2022 17:42:50] \"GET /led HTTP/1.1\" 200 -\n",
      "172.20.10.7 - - [01/Aug/2022 17:42:50] \"GET /led HTTP/1.1\" 200 -\n",
      "172.20.10.7 - - [01/Aug/2022 17:42:51] \"GET /led HTTP/1.1\" 200 -\n",
      "172.20.10.7 - - [01/Aug/2022 17:42:51] \"GET /led HTTP/1.1\" 200 -\n",
      "172.20.10.7 - - [01/Aug/2022 17:42:52] \"GET /led HTTP/1.1\" 200 -\n",
      "172.20.10.7 - - [01/Aug/2022 17:42:53] \"GET /led HTTP/1.1\" 200 -\n",
      "172.20.10.7 - - [01/Aug/2022 17:42:53] \"GET /led HTTP/1.1\" 200 -\n",
      "172.20.10.7 - - [01/Aug/2022 17:42:54] \"GET /led HTTP/1.1\" 200 -\n",
      "172.20.10.7 - - [01/Aug/2022 17:42:54] \"GET /led HTTP/1.1\" 200 -\n",
      "172.20.10.7 - - [01/Aug/2022 17:42:55] \"GET /led HTTP/1.1\" 200 -\n",
      "172.20.10.7 - - [01/Aug/2022 17:42:56] \"GET /led HTTP/1.1\" 200 -\n",
      "172.20.10.7 - - [01/Aug/2022 17:42:56] \"GET /led HTTP/1.1\" 200 -\n",
      "172.20.10.7 - - [01/Aug/2022 17:42:57] \"GET /led HTTP/1.1\" 200 -\n",
      "172.20.10.7 - - [01/Aug/2022 17:42:57] \"GET /led HTTP/1.1\" 200 -\n",
      "172.20.10.7 - - [01/Aug/2022 17:42:58] \"GET /led HTTP/1.1\" 200 -\n",
      "172.20.10.7 - - [01/Aug/2022 17:42:59] \"GET /led HTTP/1.1\" 200 -\n",
      "172.20.10.7 - - [01/Aug/2022 17:42:59] \"GET /led HTTP/1.1\" 200 -\n",
      "172.20.10.7 - - [01/Aug/2022 17:43:00] \"GET /led HTTP/1.1\" 200 -\n",
      "172.20.10.7 - - [01/Aug/2022 17:43:00] \"GET /led HTTP/1.1\" 200 -\n",
      "172.20.10.7 - - [01/Aug/2022 17:43:01] \"GET /led HTTP/1.1\" 200 -\n",
      "172.20.10.7 - - [01/Aug/2022 17:43:01] \"GET /led HTTP/1.1\" 200 -\n",
      "172.20.10.7 - - [01/Aug/2022 17:43:02] \"GET /led HTTP/1.1\" 200 -\n",
      "172.20.10.7 - - [01/Aug/2022 17:43:03] \"GET /led HTTP/1.1\" 200 -\n",
      "172.20.10.7 - - [01/Aug/2022 17:43:03] \"GET /led HTTP/1.1\" 200 -\n",
      "172.20.10.7 - - [01/Aug/2022 17:43:04] \"GET /led HTTP/1.1\" 200 -\n",
      "172.20.10.7 - - [01/Aug/2022 17:43:05] \"GET /led HTTP/1.1\" 200 -\n",
      "172.20.10.5 - - [01/Aug/2022 17:44:51] \"GET /led/on HTTP/1.1\" 200 -\n"
     ]
    },
    {
     "name": "stdout",
     "output_type": "stream",
     "text": [
      "LED 켜짐\n"
     ]
    },
    {
     "name": "stderr",
     "output_type": "stream",
     "text": [
      "172.20.10.5 - - [01/Aug/2022 17:44:52] \"GET /led/off HTTP/1.1\" 200 -\n"
     ]
    },
    {
     "name": "stdout",
     "output_type": "stream",
     "text": [
      "LED 꺼짐\n"
     ]
    },
    {
     "name": "stderr",
     "output_type": "stream",
     "text": [
      "172.20.10.5 - - [01/Aug/2022 17:44:54] \"GET /led/on HTTP/1.1\" 200 -\n"
     ]
    },
    {
     "name": "stdout",
     "output_type": "stream",
     "text": [
      "LED 켜짐\n"
     ]
    },
    {
     "name": "stderr",
     "output_type": "stream",
     "text": [
      "172.20.10.7 - - [01/Aug/2022 17:51:34] \"GET /led HTTP/1.1\" 200 -\n",
      "172.20.10.7 - - [01/Aug/2022 17:51:35] \"GET /led HTTP/1.1\" 200 -\n",
      "172.20.10.7 - - [01/Aug/2022 17:51:35] \"GET /led HTTP/1.1\" 200 -\n",
      "172.20.10.7 - - [01/Aug/2022 17:51:36] \"GET /led HTTP/1.1\" 200 -\n",
      "172.20.10.7 - - [01/Aug/2022 17:51:37] \"GET /led HTTP/1.1\" 200 -\n",
      "172.20.10.7 - - [01/Aug/2022 17:51:37] \"GET /led HTTP/1.1\" 200 -\n",
      "172.20.10.7 - - [01/Aug/2022 17:51:38] \"GET /led HTTP/1.1\" 200 -\n",
      "172.20.10.5 - - [01/Aug/2022 17:51:38] \"GET /led/on HTTP/1.1\" 200 -\n"
     ]
    },
    {
     "name": "stdout",
     "output_type": "stream",
     "text": [
      "LED 켜짐\n"
     ]
    },
    {
     "name": "stderr",
     "output_type": "stream",
     "text": [
      "172.20.10.7 - - [01/Aug/2022 17:51:38] \"GET /led HTTP/1.1\" 200 -\n",
      "172.20.10.7 - - [01/Aug/2022 17:51:39] \"GET /led HTTP/1.1\" 200 -\n",
      "172.20.10.7 - - [01/Aug/2022 17:51:40] \"GET /led HTTP/1.1\" 200 -\n",
      "172.20.10.5 - - [01/Aug/2022 17:51:40] \"GET /led/on HTTP/1.1\" 200 -\n",
      "172.20.10.7 - - [01/Aug/2022 17:51:40] \"GET /led HTTP/1.1\" 200 -\n"
     ]
    },
    {
     "name": "stdout",
     "output_type": "stream",
     "text": [
      "LED 켜짐\n"
     ]
    },
    {
     "name": "stderr",
     "output_type": "stream",
     "text": [
      "172.20.10.7 - - [01/Aug/2022 17:51:41] \"GET /led HTTP/1.1\" 200 -\n",
      "172.20.10.7 - - [01/Aug/2022 17:51:41] \"GET /led HTTP/1.1\" 200 -\n",
      "172.20.10.7 - - [01/Aug/2022 17:51:42] \"GET /led HTTP/1.1\" 200 -\n",
      "172.20.10.7 - - [01/Aug/2022 17:51:42] \"GET /led HTTP/1.1\" 200 -\n",
      "172.20.10.7 - - [01/Aug/2022 17:51:43] \"GET /led HTTP/1.1\" 200 -\n",
      "172.20.10.7 - - [01/Aug/2022 17:51:44] \"GET /led HTTP/1.1\" 200 -\n",
      "172.20.10.7 - - [01/Aug/2022 17:51:44] \"GET /led HTTP/1.1\" 200 -\n",
      "172.20.10.7 - - [01/Aug/2022 17:51:45] \"GET /led HTTP/1.1\" 200 -\n",
      "172.20.10.7 - - [01/Aug/2022 17:51:45] \"GET /led HTTP/1.1\" 200 -\n",
      "172.20.10.7 - - [01/Aug/2022 17:51:46] \"GET /led HTTP/1.1\" 200 -\n",
      "172.20.10.7 - - [01/Aug/2022 17:51:47] \"GET /led HTTP/1.1\" 200 -\n",
      "172.20.10.7 - - [01/Aug/2022 17:51:47] \"GET /led HTTP/1.1\" 200 -\n",
      "172.20.10.7 - - [01/Aug/2022 17:51:48] \"GET /led HTTP/1.1\" 200 -\n",
      "172.20.10.7 - - [01/Aug/2022 17:51:48] \"GET /led HTTP/1.1\" 200 -\n",
      "172.20.10.7 - - [01/Aug/2022 17:51:49] \"GET /led HTTP/1.1\" 200 -\n",
      "172.20.10.7 - - [01/Aug/2022 17:51:50] \"GET /led HTTP/1.1\" 200 -\n",
      "172.20.10.7 - - [01/Aug/2022 17:51:50] \"GET /led HTTP/1.1\" 200 -\n",
      "172.20.10.7 - - [01/Aug/2022 17:51:51] \"GET /led HTTP/1.1\" 200 -\n",
      "172.20.10.7 - - [01/Aug/2022 17:51:51] \"GET /led HTTP/1.1\" 200 -\n",
      "172.20.10.7 - - [01/Aug/2022 17:51:52] \"GET /led HTTP/1.1\" 200 -\n",
      "172.20.10.7 - - [01/Aug/2022 17:51:53] \"GET /led HTTP/1.1\" 200 -\n",
      "172.20.10.5 - - [01/Aug/2022 17:51:53] \"GET /led/off HTTP/1.1\" 200 -\n"
     ]
    },
    {
     "name": "stdout",
     "output_type": "stream",
     "text": [
      "LED 꺼짐\n"
     ]
    },
    {
     "name": "stderr",
     "output_type": "stream",
     "text": [
      "172.20.10.7 - - [01/Aug/2022 17:51:53] \"GET /led HTTP/1.1\" 200 -\n",
      "172.20.10.7 - - [01/Aug/2022 17:51:54] \"GET /led HTTP/1.1\" 200 -\n",
      "172.20.10.7 - - [01/Aug/2022 17:51:54] \"GET /led HTTP/1.1\" 200 -\n",
      "172.20.10.7 - - [01/Aug/2022 17:51:55] \"GET /led HTTP/1.1\" 200 -\n"
     ]
    }
   ],
   "source": [
    "#서버 기본 form\n",
    "from flask import Flask #서버 올리는 라이브러리\n",
    "from flask import render_template \n",
    "\n",
    "app = Flask(__name__)  #app이라는 객체 만든 것\n",
    "\n",
    "led = '2'\n",
    "\n",
    "@app.route('/')  #경로잡아줌\n",
    "def index():\n",
    "    return render_template('index.html')\n",
    "\n",
    "@app.route('/led')\n",
    "def state():\n",
    "    global led\n",
    "    #print(f'현재 LED상태 : {LED}')\n",
    "    return led\n",
    "\n",
    "@app.route('/led/on')\n",
    "def led_on():\n",
    "    global led #이 밑으로 쓰는 led는 다 글로벌 led야\n",
    "    led = '1'\n",
    "    print('LED 켜짐')\n",
    "    return 'LED ON'\n",
    "\n",
    "@app.route('/led/off')\n",
    "def led_off():\n",
    "    global led\n",
    "    led = '0'\n",
    "    print('LED 꺼짐')\n",
    "    return 'LED OFF'\n",
    "\n",
    "if __name__ == '__main__':\n",
    "    app.run(host='172.20.10.5', port=5031)  #ipconfig 명령프롬프트창에 검색 #플라스크 50으로 시작하고 네자리"
   ]
  },
  {
   "cell_type": "code",
   "execution_count": null,
   "id": "f77a8864",
   "metadata": {},
   "outputs": [],
   "source": []
  },
  {
   "cell_type": "code",
   "execution_count": null,
   "id": "fa74c04b",
   "metadata": {},
   "outputs": [],
   "source": []
  },
  {
   "cell_type": "code",
   "execution_count": null,
   "id": "734c68b1",
   "metadata": {},
   "outputs": [],
   "source": []
  },
  {
   "cell_type": "code",
   "execution_count": null,
   "id": "390a8dc1",
   "metadata": {},
   "outputs": [],
   "source": []
  },
  {
   "cell_type": "code",
   "execution_count": null,
   "id": "e5b7b3c7",
   "metadata": {},
   "outputs": [],
   "source": []
  },
  {
   "cell_type": "code",
   "execution_count": null,
   "id": "f9eadd64",
   "metadata": {},
   "outputs": [],
   "source": []
  },
  {
   "cell_type": "code",
   "execution_count": null,
   "id": "00ceec02",
   "metadata": {},
   "outputs": [],
   "source": []
  },
  {
   "cell_type": "code",
   "execution_count": null,
   "id": "fdbf4591",
   "metadata": {},
   "outputs": [],
   "source": []
  },
  {
   "cell_type": "code",
   "execution_count": null,
   "id": "78a81c94",
   "metadata": {},
   "outputs": [],
   "source": []
  },
  {
   "cell_type": "code",
   "execution_count": null,
   "id": "fd5db824",
   "metadata": {},
   "outputs": [],
   "source": []
  },
  {
   "cell_type": "code",
   "execution_count": null,
   "id": "74174031",
   "metadata": {},
   "outputs": [],
   "source": []
  },
  {
   "cell_type": "code",
   "execution_count": null,
   "id": "bdaaecac",
   "metadata": {},
   "outputs": [],
   "source": []
  },
  {
   "cell_type": "code",
   "execution_count": null,
   "id": "5abe2d85",
   "metadata": {},
   "outputs": [],
   "source": []
  },
  {
   "cell_type": "code",
   "execution_count": null,
   "id": "d22deb81",
   "metadata": {},
   "outputs": [],
   "source": []
  },
  {
   "cell_type": "code",
   "execution_count": null,
   "id": "d79ceac2",
   "metadata": {},
   "outputs": [],
   "source": []
  },
  {
   "cell_type": "code",
   "execution_count": null,
   "id": "6afbb611",
   "metadata": {},
   "outputs": [],
   "source": []
  },
  {
   "cell_type": "code",
   "execution_count": null,
   "id": "23625c30",
   "metadata": {},
   "outputs": [],
   "source": []
  },
  {
   "cell_type": "code",
   "execution_count": null,
   "id": "34ada8f7",
   "metadata": {},
   "outputs": [],
   "source": []
  }
 ],
 "metadata": {
  "kernelspec": {
   "display_name": "Python 3.10.5 64-bit",
   "language": "python",
   "name": "python3"
  },
  "language_info": {
   "codemirror_mode": {
    "name": "ipython",
    "version": 3
   },
   "file_extension": ".py",
   "mimetype": "text/x-python",
   "name": "python",
   "nbconvert_exporter": "python",
   "pygments_lexer": "ipython3",
   "version": "3.10.5 (v3.10.5:f377153967, Jun  6 2022, 12:36:10) [Clang 13.0.0 (clang-1300.0.29.30)]"
  },
  "toc": {
   "base_numbering": 1,
   "nav_menu": {},
   "number_sections": true,
   "sideBar": true,
   "skip_h1_title": false,
   "title_cell": "Table of Contents",
   "title_sidebar": "Contents",
   "toc_cell": false,
   "toc_position": {},
   "toc_section_display": true,
   "toc_window_display": false
  },
  "vscode": {
   "interpreter": {
    "hash": "aee8b7b246df8f9039afb4144a1f6fd8d2ca17a180786b69acc140d282b71a49"
   }
  }
 },
 "nbformat": 4,
 "nbformat_minor": 5
}
